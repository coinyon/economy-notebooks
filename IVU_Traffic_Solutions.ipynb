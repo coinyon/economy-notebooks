{
 "cells": [
  {
   "cell_type": "markdown",
   "metadata": {},
   "source": [
    "# Valuation of IVU Traffic Technologies AG\n",
    "\n",
    "This notebook attempts a layman valuation of the German company \"IVU Traffic Technologies AG\"."
   ]
  },
  {
   "cell_type": "code",
   "execution_count": 1,
   "metadata": {},
   "outputs": [],
   "source": [
    "import pandas as pd\n",
    "import matplotlib\n",
    "import matplotlib.pyplot\n",
    "matplotlib.style.use('ggplot')\n",
    "matplotlib.rcParams.update({'font.size': 18, 'figure.facecolor': '1', 'figure.figsize': (10, 4)})"
   ]
  },
  {
   "cell_type": "markdown",
   "metadata": {},
   "source": [
    "First, let's load some of the data from the company's quarterly reports. Because parsing PDFs is annoying, I already converted it into a CSV file:"
   ]
  },
  {
   "cell_type": "code",
   "execution_count": 2,
   "metadata": {},
   "outputs": [
    {
     "data": {
      "text/html": [
       "<div>\n",
       "<style scoped>\n",
       "    .dataframe tbody tr th:only-of-type {\n",
       "        vertical-align: middle;\n",
       "    }\n",
       "\n",
       "    .dataframe tbody tr th {\n",
       "        vertical-align: top;\n",
       "    }\n",
       "\n",
       "    .dataframe thead th {\n",
       "        text-align: right;\n",
       "    }\n",
       "</style>\n",
       "<table border=\"1\" class=\"dataframe\">\n",
       "  <thead>\n",
       "    <tr style=\"text-align: right;\">\n",
       "      <th></th>\n",
       "      <th></th>\n",
       "      <th>Revenue</th>\n",
       "      <th>GrossProfit</th>\n",
       "      <th>StaffExpenditures</th>\n",
       "      <th>EBIT</th>\n",
       "      <th>NetProfit</th>\n",
       "    </tr>\n",
       "    <tr>\n",
       "      <th>Year</th>\n",
       "      <th>Quarter</th>\n",
       "      <th></th>\n",
       "      <th></th>\n",
       "      <th></th>\n",
       "      <th></th>\n",
       "      <th></th>\n",
       "    </tr>\n",
       "  </thead>\n",
       "  <tbody>\n",
       "    <tr>\n",
       "      <th>2014</th>\n",
       "      <th>Q4</th>\n",
       "      <td>47200</td>\n",
       "      <td>37100</td>\n",
       "      <td>23900</td>\n",
       "      <td>4300</td>\n",
       "      <td>4400</td>\n",
       "    </tr>\n",
       "    <tr>\n",
       "      <th rowspan=\"4\" valign=\"top\">2015</th>\n",
       "      <th>Q1</th>\n",
       "      <td>9361</td>\n",
       "      <td>7335</td>\n",
       "      <td>6316</td>\n",
       "      <td>-786</td>\n",
       "      <td>-855</td>\n",
       "    </tr>\n",
       "    <tr>\n",
       "      <th>Q2</th>\n",
       "      <td>21458</td>\n",
       "      <td>15674</td>\n",
       "      <td>12720</td>\n",
       "      <td>-914</td>\n",
       "      <td>-1186</td>\n",
       "    </tr>\n",
       "    <tr>\n",
       "      <th>Q3</th>\n",
       "      <td>33453</td>\n",
       "      <td>24173</td>\n",
       "      <td>18130</td>\n",
       "      <td>-66</td>\n",
       "      <td>-721</td>\n",
       "    </tr>\n",
       "    <tr>\n",
       "      <th>Q4</th>\n",
       "      <td>58100</td>\n",
       "      <td>40100</td>\n",
       "      <td>25200</td>\n",
       "      <td>4900</td>\n",
       "      <td>3600</td>\n",
       "    </tr>\n",
       "    <tr>\n",
       "      <th rowspan=\"4\" valign=\"top\">2016</th>\n",
       "      <th>Q1</th>\n",
       "      <td>9761</td>\n",
       "      <td>7387</td>\n",
       "      <td>7134</td>\n",
       "      <td>-1812</td>\n",
       "      <td>-2419</td>\n",
       "    </tr>\n",
       "    <tr>\n",
       "      <th>Q2</th>\n",
       "      <td>22771</td>\n",
       "      <td>17494</td>\n",
       "      <td>14517</td>\n",
       "      <td>-1586</td>\n",
       "      <td>-2244</td>\n",
       "    </tr>\n",
       "    <tr>\n",
       "      <th>Q3</th>\n",
       "      <td>37292</td>\n",
       "      <td>27398</td>\n",
       "      <td>20613</td>\n",
       "      <td>-1902</td>\n",
       "      <td>-2854</td>\n",
       "    </tr>\n",
       "    <tr>\n",
       "      <th>Q4</th>\n",
       "      <td>59800</td>\n",
       "      <td>42800</td>\n",
       "      <td>28600</td>\n",
       "      <td>1400</td>\n",
       "      <td>-200</td>\n",
       "    </tr>\n",
       "    <tr>\n",
       "      <th rowspan=\"4\" valign=\"top\">2017</th>\n",
       "      <th>Q1</th>\n",
       "      <td>11572</td>\n",
       "      <td>8945</td>\n",
       "      <td>7380</td>\n",
       "      <td>-679</td>\n",
       "      <td>-920</td>\n",
       "    </tr>\n",
       "    <tr>\n",
       "      <th>Q2</th>\n",
       "      <td>26153</td>\n",
       "      <td>19239</td>\n",
       "      <td>15064</td>\n",
       "      <td>-592</td>\n",
       "      <td>-1085</td>\n",
       "    </tr>\n",
       "    <tr>\n",
       "      <th>Q3</th>\n",
       "      <td>40756</td>\n",
       "      <td>29303</td>\n",
       "      <td>22362</td>\n",
       "      <td>65</td>\n",
       "      <td>-493</td>\n",
       "    </tr>\n",
       "    <tr>\n",
       "      <th>Q4</th>\n",
       "      <td>71100</td>\n",
       "      <td>47700</td>\n",
       "      <td>31200</td>\n",
       "      <td>6100</td>\n",
       "      <td>5000</td>\n",
       "    </tr>\n",
       "    <tr>\n",
       "      <th rowspan=\"3\" valign=\"top\">2018</th>\n",
       "      <th>Q1</th>\n",
       "      <td>13993</td>\n",
       "      <td>9695</td>\n",
       "      <td>8261</td>\n",
       "      <td>-684</td>\n",
       "      <td>-837</td>\n",
       "    </tr>\n",
       "    <tr>\n",
       "      <th>Q2</th>\n",
       "      <td>29965</td>\n",
       "      <td>20673</td>\n",
       "      <td>16771</td>\n",
       "      <td>-625</td>\n",
       "      <td>-911</td>\n",
       "    </tr>\n",
       "    <tr>\n",
       "      <th>Q3</th>\n",
       "      <td>51932</td>\n",
       "      <td>35317</td>\n",
       "      <td>24772</td>\n",
       "      <td>3149</td>\n",
       "      <td>2731</td>\n",
       "    </tr>\n",
       "  </tbody>\n",
       "</table>\n",
       "</div>"
      ],
      "text/plain": [
       "              Revenue  GrossProfit  StaffExpenditures  EBIT  NetProfit\n",
       "Year Quarter                                                          \n",
       "2014 Q4         47200        37100              23900  4300       4400\n",
       "2015 Q1          9361         7335               6316  -786       -855\n",
       "     Q2         21458        15674              12720  -914      -1186\n",
       "     Q3         33453        24173              18130   -66       -721\n",
       "     Q4         58100        40100              25200  4900       3600\n",
       "2016 Q1          9761         7387               7134 -1812      -2419\n",
       "     Q2         22771        17494              14517 -1586      -2244\n",
       "     Q3         37292        27398              20613 -1902      -2854\n",
       "     Q4         59800        42800              28600  1400       -200\n",
       "2017 Q1         11572         8945               7380  -679       -920\n",
       "     Q2         26153        19239              15064  -592      -1085\n",
       "     Q3         40756        29303              22362    65       -493\n",
       "     Q4         71100        47700              31200  6100       5000\n",
       "2018 Q1         13993         9695               8261  -684       -837\n",
       "     Q2         29965        20673              16771  -625       -911\n",
       "     Q3         51932        35317              24772  3149       2731"
      ]
     },
     "execution_count": 2,
     "metadata": {},
     "output_type": "execute_result"
    }
   ],
   "source": [
    "df = pd.read_csv('IVU/IVU_Reports_Data.csv')\n",
    "del df['Company']\n",
    "df = df.set_index([\"Year\", \"Quarter\"])\n",
    "df"
   ]
  },
  {
   "cell_type": "markdown",
   "metadata": {},
   "source": [
    "Now, to get a feel for this dataset, let's plot it:"
   ]
  },
  {
   "cell_type": "code",
   "execution_count": 3,
   "metadata": {},
   "outputs": [
    {
     "data": {
      "image/png": "[encoded data removed]",
      "text/plain": [
       "<Figure size 432x288 with 1 Axes>"
      ]
     },
     "metadata": {
      "needs_background": "light"
     },
     "output_type": "display_data"
    }
   ],
   "source": [
    "df[[\"Revenue\", \"GrossProfit\", \"StaffExpenditures\"]].plot(kind='bar');"
   ]
  },
  {
   "cell_type": "markdown",
   "metadata": {},
   "source": [
    "Why the wild cyclical swings? This is because in IVU's reports, data points like revenue are reported for the YTD each Quarter. So Q2 will contain values for Jan to Jul.\n",
    "\n",
    "As the next part of our data processing, we will try to get the actual offsets for each quarter:"
   ]
  },
  {
   "cell_type": "code",
   "execution_count": 4,
   "metadata": {},
   "outputs": [
    {
     "data": {
      "image/png": "[encoded data removed]",
      "text/plain": [
       "<Figure size 432x288 with 1 Axes>"
      ]
     },
     "metadata": {
      "needs_background": "light"
     },
     "output_type": "display_data"
    }
   ],
   "source": [
    "df_quarterly = df[[\"Revenue\", \"GrossProfit\", \"StaffExpenditures\"]].copy(deep=True)\n",
    "for (qs, qd) in (('Q3', 'Q4'), ('Q2', 'Q3'), ('Q1', 'Q2')):\n",
    "    subq = df_quarterly.loc[pd.IndexSlice[:,[qs]], :]\n",
    "    subq.index = subq.index.droplevel(1)\n",
    "    df_quarterly.loc[pd.IndexSlice[:,[qd]], :] -= subq\n",
    "df_quarterly.plot(kind='bar');"
   ]
  },
  {
   "cell_type": "markdown",
   "metadata": {},
   "source": [
    "## Prediction (Work in progress)\n",
    "\n",
    "We can now see that ... TODO"
   ]
  },
  {
   "cell_type": "markdown",
   "metadata": {},
   "source": [
    "## EBITDA Valuation Method (Work in progress)\n",
    "\n",
    "Using this prediction, we can attempt a cashflow-based valuation."
   ]
  },
  {
   "cell_type": "code",
   "execution_count": 5,
   "metadata": {},
   "outputs": [
    {
     "data": {
      "text/plain": [
       "Revenue              71100\n",
       "GrossProfit          47700\n",
       "StaffExpenditures    31200\n",
       "EBIT                  6100\n",
       "NetProfit             5000\n",
       "Name: (2017, Q4), dtype: int64"
      ]
     },
     "execution_count": 5,
     "metadata": {},
     "output_type": "execute_result"
    }
   ],
   "source": [
    "df.loc[pd.IndexSlice[:,['Q4']], :].iloc[-1]"
   ]
  }
 ],
 "metadata": {
  "kernelspec": {
   "display_name": "Python 3",
   "language": "python",
   "name": "python3"
  },
  "language_info": {
   "codemirror_mode": {
    "name": "ipython",
    "version": 3
   },
   "file_extension": ".py",
   "mimetype": "text/x-python",
   "name": "python",
   "nbconvert_exporter": "python",
   "pygments_lexer": "ipython3",
   "version": "3.7.2"
  }
 },
 "nbformat": 4,
 "nbformat_minor": 2
}

{
 "cells": [
  {
   "cell_type": "markdown",
   "metadata": {},
   "source": [
    "# Valuation of IVU Traffic Technologies AG\n",
    "\n",
    "This notebook attempts a layman valuation of the German company \"IVU Traffic Technologies AG\"."
   ]
  },
  {
   "cell_type": "code",
   "execution_count": 1,
   "metadata": {},
   "outputs": [],
   "source": [
    "import pandas as pd\n",
    "import matplotlib.pyplot as plt\n",
    "import matplotlib\n",
    "import numpy as np\n",
    "\n",
    "# The following style setup will be moved to a common style file\n",
    "# TODO: Fix font\n",
    "# TODO: Fix plot padding (left-border of the plot should be same position for all plots)\n",
    "matplotlib.style.use('ggplot')\n",
    "matplotlib.rcParams.update({\n",
    "    'font.size': 15,\n",
    "    'figure.facecolor': '1',\n",
    "    'figure.figsize': (10, 4),\n",
    "    'savefig.pad_inches': 0.2\n",
    "})\n",
    "\n",
    "def default_ax_style():\n",
    "    fig = plt.figure()\n",
    "    ax = fig.subplots(1,1)\n",
    "    ax.ticklabel_format(style='plain')\n",
    "    return ax"
   ]
  },
  {
   "cell_type": "markdown",
   "metadata": {},
   "source": [
    "First, let's load some of the data from the company's quarterly reports. Because parsing PDFs is annoying, I already converted it into a CSV file:"
   ]
  },
  {
   "cell_type": "code",
   "execution_count": 2,
   "metadata": {},
   "outputs": [
    {
     "data": {
      "text/html": [
       "<div>\n",
       "<style scoped>\n",
       "    .dataframe tbody tr th:only-of-type {\n",
       "        vertical-align: middle;\n",
       "    }\n",
       "\n",
       "    .dataframe tbody tr th {\n",
       "        vertical-align: top;\n",
       "    }\n",
       "\n",
       "    .dataframe thead th {\n",
       "        text-align: right;\n",
       "    }\n",
       "</style>\n",
       "<table border=\"1\" class=\"dataframe\">\n",
       "  <thead>\n",
       "    <tr style=\"text-align: right;\">\n",
       "      <th></th>\n",
       "      <th></th>\n",
       "      <th>Revenue</th>\n",
       "      <th>GrossProfit</th>\n",
       "      <th>StaffExpenditures</th>\n",
       "      <th>EBIT</th>\n",
       "      <th>NetProfit</th>\n",
       "    </tr>\n",
       "    <tr>\n",
       "      <th>Year</th>\n",
       "      <th>Quarter</th>\n",
       "      <th></th>\n",
       "      <th></th>\n",
       "      <th></th>\n",
       "      <th></th>\n",
       "      <th></th>\n",
       "    </tr>\n",
       "  </thead>\n",
       "  <tbody>\n",
       "    <tr>\n",
       "      <th>2014</th>\n",
       "      <th>Q4</th>\n",
       "      <td>47200000</td>\n",
       "      <td>37100000</td>\n",
       "      <td>23900000</td>\n",
       "      <td>4300000</td>\n",
       "      <td>4400000</td>\n",
       "    </tr>\n",
       "    <tr>\n",
       "      <th rowspan=\"4\" valign=\"top\">2015</th>\n",
       "      <th>Q1</th>\n",
       "      <td>9361000</td>\n",
       "      <td>7335000</td>\n",
       "      <td>6316000</td>\n",
       "      <td>-786000</td>\n",
       "      <td>-855000</td>\n",
       "    </tr>\n",
       "    <tr>\n",
       "      <th>Q2</th>\n",
       "      <td>21458000</td>\n",
       "      <td>15674000</td>\n",
       "      <td>12720000</td>\n",
       "      <td>-914000</td>\n",
       "      <td>-1186000</td>\n",
       "    </tr>\n",
       "    <tr>\n",
       "      <th>Q3</th>\n",
       "      <td>33453000</td>\n",
       "      <td>24173000</td>\n",
       "      <td>18130000</td>\n",
       "      <td>-66000</td>\n",
       "      <td>-721000</td>\n",
       "    </tr>\n",
       "    <tr>\n",
       "      <th>Q4</th>\n",
       "      <td>58100000</td>\n",
       "      <td>40100000</td>\n",
       "      <td>25200000</td>\n",
       "      <td>4900000</td>\n",
       "      <td>3600000</td>\n",
       "    </tr>\n",
       "    <tr>\n",
       "      <th rowspan=\"4\" valign=\"top\">2016</th>\n",
       "      <th>Q1</th>\n",
       "      <td>9761000</td>\n",
       "      <td>7387000</td>\n",
       "      <td>7134000</td>\n",
       "      <td>-1812000</td>\n",
       "      <td>-2419000</td>\n",
       "    </tr>\n",
       "    <tr>\n",
       "      <th>Q2</th>\n",
       "      <td>22771000</td>\n",
       "      <td>17494000</td>\n",
       "      <td>14517000</td>\n",
       "      <td>-1586000</td>\n",
       "      <td>-2244000</td>\n",
       "    </tr>\n",
       "    <tr>\n",
       "      <th>Q3</th>\n",
       "      <td>37292000</td>\n",
       "      <td>27398000</td>\n",
       "      <td>20613000</td>\n",
       "      <td>-1902000</td>\n",
       "      <td>-2854000</td>\n",
       "    </tr>\n",
       "    <tr>\n",
       "      <th>Q4</th>\n",
       "      <td>59800000</td>\n",
       "      <td>42800000</td>\n",
       "      <td>28600000</td>\n",
       "      <td>1400000</td>\n",
       "      <td>-200000</td>\n",
       "    </tr>\n",
       "    <tr>\n",
       "      <th rowspan=\"4\" valign=\"top\">2017</th>\n",
       "      <th>Q1</th>\n",
       "      <td>11572000</td>\n",
       "      <td>8945000</td>\n",
       "      <td>7380000</td>\n",
       "      <td>-679000</td>\n",
       "      <td>-920000</td>\n",
       "    </tr>\n",
       "    <tr>\n",
       "      <th>Q2</th>\n",
       "      <td>26153000</td>\n",
       "      <td>19239000</td>\n",
       "      <td>15064000</td>\n",
       "      <td>-592000</td>\n",
       "      <td>-1085000</td>\n",
       "    </tr>\n",
       "    <tr>\n",
       "      <th>Q3</th>\n",
       "      <td>40756000</td>\n",
       "      <td>29303000</td>\n",
       "      <td>22362000</td>\n",
       "      <td>65000</td>\n",
       "      <td>-493000</td>\n",
       "    </tr>\n",
       "    <tr>\n",
       "      <th>Q4</th>\n",
       "      <td>71100000</td>\n",
       "      <td>47700000</td>\n",
       "      <td>31200000</td>\n",
       "      <td>6100000</td>\n",
       "      <td>5000000</td>\n",
       "    </tr>\n",
       "    <tr>\n",
       "      <th rowspan=\"3\" valign=\"top\">2018</th>\n",
       "      <th>Q1</th>\n",
       "      <td>13993000</td>\n",
       "      <td>9695000</td>\n",
       "      <td>8261000</td>\n",
       "      <td>-684000</td>\n",
       "      <td>-837000</td>\n",
       "    </tr>\n",
       "    <tr>\n",
       "      <th>Q2</th>\n",
       "      <td>29965000</td>\n",
       "      <td>20673000</td>\n",
       "      <td>16771000</td>\n",
       "      <td>-625000</td>\n",
       "      <td>-911000</td>\n",
       "    </tr>\n",
       "    <tr>\n",
       "      <th>Q3</th>\n",
       "      <td>51932000</td>\n",
       "      <td>35317000</td>\n",
       "      <td>24772000</td>\n",
       "      <td>3149000</td>\n",
       "      <td>2731000</td>\n",
       "    </tr>\n",
       "  </tbody>\n",
       "</table>\n",
       "</div>"
      ],
      "text/plain": [
       "               Revenue  GrossProfit  StaffExpenditures     EBIT  NetProfit\n",
       "Year Quarter                                                              \n",
       "2014 Q4       47200000     37100000           23900000  4300000    4400000\n",
       "2015 Q1        9361000      7335000            6316000  -786000    -855000\n",
       "     Q2       21458000     15674000           12720000  -914000   -1186000\n",
       "     Q3       33453000     24173000           18130000   -66000    -721000\n",
       "     Q4       58100000     40100000           25200000  4900000    3600000\n",
       "2016 Q1        9761000      7387000            7134000 -1812000   -2419000\n",
       "     Q2       22771000     17494000           14517000 -1586000   -2244000\n",
       "     Q3       37292000     27398000           20613000 -1902000   -2854000\n",
       "     Q4       59800000     42800000           28600000  1400000    -200000\n",
       "2017 Q1       11572000      8945000            7380000  -679000    -920000\n",
       "     Q2       26153000     19239000           15064000  -592000   -1085000\n",
       "     Q3       40756000     29303000           22362000    65000    -493000\n",
       "     Q4       71100000     47700000           31200000  6100000    5000000\n",
       "2018 Q1       13993000      9695000            8261000  -684000    -837000\n",
       "     Q2       29965000     20673000           16771000  -625000    -911000\n",
       "     Q3       51932000     35317000           24772000  3149000    2731000"
      ]
     },
     "execution_count": 2,
     "metadata": {},
     "output_type": "execute_result"
    }
   ],
   "source": [
    "df = pd.read_csv('IVU/IVU_Reports_Data.csv')\n",
    "del df['Company']\n",
    "df = df.set_index([\"Year\", \"Quarter\"])\n",
    "df *= 1000 # each value in the CSV file is in thousand €, so lets multiply by thousand to get the € values\n",
    "df"
   ]
  },
  {
   "cell_type": "markdown",
   "metadata": {},
   "source": [
    "Now, to get a feel for this dataset, let's plot it:"
   ]
  },
  {
   "cell_type": "code",
   "execution_count": 3,
   "metadata": {},
   "outputs": [
    {
     "data": {
      "image/png": "[encoded data removed]",
      "text/plain": [
       "<Figure size 432x288 with 1 Axes>"
      ]
     },
     "metadata": {
      "needs_background": "light"
     },
     "output_type": "display_data"
    }
   ],
   "source": [
    "df[[\"Revenue\", \"GrossProfit\", \"StaffExpenditures\"]].plot(kind='bar', ax=default_ax_style());"
   ]
  },
  {
   "cell_type": "markdown",
   "metadata": {},
   "source": [
    "Why the wild cyclical swings? This is because in IVU's reports, data points like revenue are accumulated for the year to date. So Q2 will contain values for January to June.\n",
    "\n",
    "As the next part of our data processing, we will try to get the actual offsets for each quarter:"
   ]
  },
  {
   "cell_type": "code",
   "execution_count": 4,
   "metadata": {},
   "outputs": [
    {
     "data": {
      "image/png": "[encoded data removed]",
      "text/plain": [
       "<Figure size 432x288 with 1 Axes>"
      ]
     },
     "metadata": {
      "needs_background": "light"
     },
     "output_type": "display_data"
    }
   ],
   "source": [
    "df_quarterly = df[[\"Revenue\", \"GrossProfit\", \"StaffExpenditures\"]].copy(deep=True)\n",
    "for (qs, qd) in (('Q3', 'Q4'), ('Q2', 'Q3'), ('Q1', 'Q2')):\n",
    "    subq = df_quarterly.loc[pd.IndexSlice[:,[qs]], :]\n",
    "    subq.index = subq.index.droplevel(1)\n",
    "    df_quarterly.loc[pd.IndexSlice[:,[qd]], :] -= subq\n",
    "df_quarterly.plot(kind='bar', ax=default_ax_style());"
   ]
  },
  {
   "cell_type": "markdown",
   "metadata": {},
   "source": [
    "## Prediction (Linear model)\n",
    "\n",
    "We can now go ahead and try to predict the Q4 2018 values. Our first attempt will be fitting a two-variable linear model (\"Year\" being the first, \"Quarter\" being the second)."
   ]
  },
  {
   "cell_type": "code",
   "execution_count": 5,
   "metadata": {},
   "outputs": [
    {
     "data": {
      "text/html": [
       "<div>\n",
       "<style scoped>\n",
       "    .dataframe tbody tr th:only-of-type {\n",
       "        vertical-align: middle;\n",
       "    }\n",
       "\n",
       "    .dataframe tbody tr th {\n",
       "        vertical-align: top;\n",
       "    }\n",
       "\n",
       "    .dataframe thead th {\n",
       "        text-align: right;\n",
       "    }\n",
       "</style>\n",
       "<table border=\"1\" class=\"dataframe\">\n",
       "  <thead>\n",
       "    <tr style=\"text-align: right;\">\n",
       "      <th></th>\n",
       "      <th></th>\n",
       "      <th>Revenue</th>\n",
       "      <th>GrossProfit</th>\n",
       "      <th>StaffExpenditures</th>\n",
       "      <th>EBIT</th>\n",
       "      <th>NetProfit</th>\n",
       "    </tr>\n",
       "    <tr>\n",
       "      <th>Year</th>\n",
       "      <th>Quarter</th>\n",
       "      <th></th>\n",
       "      <th></th>\n",
       "      <th></th>\n",
       "      <th></th>\n",
       "      <th></th>\n",
       "    </tr>\n",
       "  </thead>\n",
       "  <tbody>\n",
       "    <tr>\n",
       "      <th>2014</th>\n",
       "      <th>Q4</th>\n",
       "      <td>47200000</td>\n",
       "      <td>37100000</td>\n",
       "      <td>23900000</td>\n",
       "      <td>4300000</td>\n",
       "      <td>4400000</td>\n",
       "    </tr>\n",
       "    <tr>\n",
       "      <th rowspan=\"4\" valign=\"top\">2015</th>\n",
       "      <th>Q1</th>\n",
       "      <td>9361000</td>\n",
       "      <td>7335000</td>\n",
       "      <td>6316000</td>\n",
       "      <td>-786000</td>\n",
       "      <td>-855000</td>\n",
       "    </tr>\n",
       "    <tr>\n",
       "      <th>Q2</th>\n",
       "      <td>21458000</td>\n",
       "      <td>15674000</td>\n",
       "      <td>12720000</td>\n",
       "      <td>-914000</td>\n",
       "      <td>-1186000</td>\n",
       "    </tr>\n",
       "    <tr>\n",
       "      <th>Q3</th>\n",
       "      <td>33453000</td>\n",
       "      <td>24173000</td>\n",
       "      <td>18130000</td>\n",
       "      <td>-66000</td>\n",
       "      <td>-721000</td>\n",
       "    </tr>\n",
       "    <tr>\n",
       "      <th>Q4</th>\n",
       "      <td>58100000</td>\n",
       "      <td>40100000</td>\n",
       "      <td>25200000</td>\n",
       "      <td>4900000</td>\n",
       "      <td>3600000</td>\n",
       "    </tr>\n",
       "    <tr>\n",
       "      <th rowspan=\"4\" valign=\"top\">2016</th>\n",
       "      <th>Q1</th>\n",
       "      <td>9761000</td>\n",
       "      <td>7387000</td>\n",
       "      <td>7134000</td>\n",
       "      <td>-1812000</td>\n",
       "      <td>-2419000</td>\n",
       "    </tr>\n",
       "    <tr>\n",
       "      <th>Q2</th>\n",
       "      <td>22771000</td>\n",
       "      <td>17494000</td>\n",
       "      <td>14517000</td>\n",
       "      <td>-1586000</td>\n",
       "      <td>-2244000</td>\n",
       "    </tr>\n",
       "    <tr>\n",
       "      <th>Q3</th>\n",
       "      <td>37292000</td>\n",
       "      <td>27398000</td>\n",
       "      <td>20613000</td>\n",
       "      <td>-1902000</td>\n",
       "      <td>-2854000</td>\n",
       "    </tr>\n",
       "    <tr>\n",
       "      <th>Q4</th>\n",
       "      <td>59800000</td>\n",
       "      <td>42800000</td>\n",
       "      <td>28600000</td>\n",
       "      <td>1400000</td>\n",
       "      <td>-200000</td>\n",
       "    </tr>\n",
       "    <tr>\n",
       "      <th rowspan=\"4\" valign=\"top\">2017</th>\n",
       "      <th>Q1</th>\n",
       "      <td>11572000</td>\n",
       "      <td>8945000</td>\n",
       "      <td>7380000</td>\n",
       "      <td>-679000</td>\n",
       "      <td>-920000</td>\n",
       "    </tr>\n",
       "    <tr>\n",
       "      <th>Q2</th>\n",
       "      <td>26153000</td>\n",
       "      <td>19239000</td>\n",
       "      <td>15064000</td>\n",
       "      <td>-592000</td>\n",
       "      <td>-1085000</td>\n",
       "    </tr>\n",
       "    <tr>\n",
       "      <th>Q3</th>\n",
       "      <td>40756000</td>\n",
       "      <td>29303000</td>\n",
       "      <td>22362000</td>\n",
       "      <td>65000</td>\n",
       "      <td>-493000</td>\n",
       "    </tr>\n",
       "    <tr>\n",
       "      <th>Q4</th>\n",
       "      <td>71100000</td>\n",
       "      <td>47700000</td>\n",
       "      <td>31200000</td>\n",
       "      <td>6100000</td>\n",
       "      <td>5000000</td>\n",
       "    </tr>\n",
       "    <tr>\n",
       "      <th rowspan=\"3\" valign=\"top\">2018</th>\n",
       "      <th>Q1</th>\n",
       "      <td>13993000</td>\n",
       "      <td>9695000</td>\n",
       "      <td>8261000</td>\n",
       "      <td>-684000</td>\n",
       "      <td>-837000</td>\n",
       "    </tr>\n",
       "    <tr>\n",
       "      <th>Q2</th>\n",
       "      <td>29965000</td>\n",
       "      <td>20673000</td>\n",
       "      <td>16771000</td>\n",
       "      <td>-625000</td>\n",
       "      <td>-911000</td>\n",
       "    </tr>\n",
       "    <tr>\n",
       "      <th>Q3</th>\n",
       "      <td>51932000</td>\n",
       "      <td>35317000</td>\n",
       "      <td>24772000</td>\n",
       "      <td>3149000</td>\n",
       "      <td>2731000</td>\n",
       "    </tr>\n",
       "  </tbody>\n",
       "</table>\n",
       "</div>"
      ],
      "text/plain": [
       "               Revenue  GrossProfit  StaffExpenditures     EBIT  NetProfit\n",
       "Year Quarter                                                              \n",
       "2014 Q4       47200000     37100000           23900000  4300000    4400000\n",
       "2015 Q1        9361000      7335000            6316000  -786000    -855000\n",
       "     Q2       21458000     15674000           12720000  -914000   -1186000\n",
       "     Q3       33453000     24173000           18130000   -66000    -721000\n",
       "     Q4       58100000     40100000           25200000  4900000    3600000\n",
       "2016 Q1        9761000      7387000            7134000 -1812000   -2419000\n",
       "     Q2       22771000     17494000           14517000 -1586000   -2244000\n",
       "     Q3       37292000     27398000           20613000 -1902000   -2854000\n",
       "     Q4       59800000     42800000           28600000  1400000    -200000\n",
       "2017 Q1       11572000      8945000            7380000  -679000    -920000\n",
       "     Q2       26153000     19239000           15064000  -592000   -1085000\n",
       "     Q3       40756000     29303000           22362000    65000    -493000\n",
       "     Q4       71100000     47700000           31200000  6100000    5000000\n",
       "2018 Q1       13993000      9695000            8261000  -684000    -837000\n",
       "     Q2       29965000     20673000           16771000  -625000    -911000\n",
       "     Q3       51932000     35317000           24772000  3149000    2731000"
      ]
     },
     "execution_count": 5,
     "metadata": {},
     "output_type": "execute_result"
    }
   ],
   "source": [
    "import sklearn.linear_model\n",
    "import sklearn\n",
    "from sklearn_pandas import DataFrameMapper, cross_val_score\n",
    "\n",
    "cols = df.columns[0:]\n",
    "std_scaler = sklearn.preprocessing.StandardScaler()\n",
    "mapper = DataFrameMapper([(cols, std_scaler)])\n",
    "\n",
    "def map_index_to_int(df):\n",
    "    df_index = df.copy()\n",
    "    df_index.index = pd.MultiIndex.from_tuples([(year, int(quarter[1])) for (year, quarter) in df.index], names=[\"Year\", \"Quarter\"])\n",
    "    return df_index\n",
    "\n",
    "def map_index_to_str(df):\n",
    "    df_index = df.copy()\n",
    "    df_index.index = pd.MultiIndex.from_tuples([(year, 'Q{0}'.format(quarter)) for (year, quarter) in df.index], names=[\"Year\", \"Quarter\"])\n",
    "    return df_index\n",
    "\n",
    "df"
   ]
  },
  {
   "cell_type": "code",
   "execution_count": 6,
   "metadata": {},
   "outputs": [
    {
     "name": "stderr",
     "output_type": "stream",
     "text": [
      "/home/hannes/projects/iconomi-analysis/venv/lib/python3.7/site-packages/sklearn/utils/validation.py:590: DataConversionWarning: Data with input dtype int64 was converted to float64 by StandardScaler.\n",
      "  warnings.warn(msg, DataConversionWarning)\n",
      "/home/hannes/projects/iconomi-analysis/venv/lib/python3.7/site-packages/sklearn/utils/validation.py:590: DataConversionWarning: Data with input dtype int64 was converted to float64 by StandardScaler.\n",
      "  warnings.warn(msg, DataConversionWarning)\n"
     ]
    }
   ],
   "source": [
    "df_index = map_index_to_int(df)\n",
    "lm = sklearn.linear_model.LinearRegression()\n",
    "lm.fit(np.array(list(df_index.index)), mapper.fit_transform(df_index.copy()));\n",
    "predict_quarters = [[year, quarter] for year in (2016, 2017, 2018, 2019) for quarter in (1,2,3,4)]\n",
    "\n",
    "prediction = lm.predict(np.array(predict_quarters))\n",
    "predict_df = pd.DataFrame(std_scaler.inverse_transform(prediction))\n",
    "predict_df = predict_df.rename({i: col for i, col in enumerate(cols)}, axis='columns')\n",
    "predict_df.index = pd.MultiIndex.from_tuples(predict_quarters, names=[\"Year\", \"Quarter\"])\n",
    "\n",
    "final_df = pd.concat([map_index_to_str(predict_df).add_prefix(\"Pred_\"), df], axis=1)\n"
   ]
  },
  {
   "cell_type": "code",
   "execution_count": 7,
   "metadata": {},
   "outputs": [
    {
     "data": {
      "image/png": "[encoded data removed]",
      "text/plain": [
       "<Figure size 432x288 with 1 Axes>"
      ]
     },
     "metadata": {
      "needs_background": "light"
     },
     "output_type": "display_data"
    }
   ],
   "source": [
    "final_df[[\"Revenue\", \"Pred_Revenue\"]].plot(kind='bar', ax=default_ax_style());"
   ]
  },
  {
   "cell_type": "code",
   "execution_count": 8,
   "metadata": {},
   "outputs": [
    {
     "data": {
      "image/png": "[encoded data removed]",
      "text/plain": [
       "<Figure size 432x288 with 1 Axes>"
      ]
     },
     "metadata": {
      "needs_background": "light"
     },
     "output_type": "display_data"
    }
   ],
   "source": [
    "final_df[[\"GrossProfit\", \"Pred_GrossProfit\"]].plot(kind='bar', ax=default_ax_style());"
   ]
  },
  {
   "cell_type": "code",
   "execution_count": 9,
   "metadata": {},
   "outputs": [
    {
     "data": {
      "image/png": "[encoded data removed]",
      "text/plain": [
       "<Figure size 432x288 with 1 Axes>"
      ]
     },
     "metadata": {
      "needs_background": "light"
     },
     "output_type": "display_data"
    }
   ],
   "source": [
    "final_df[[\"EBIT\", \"Pred_EBIT\"]].plot(kind='bar', ax=default_ax_style());"
   ]
  },
  {
   "cell_type": "markdown",
   "metadata": {},
   "source": [
    "The numbers predicted by the linear model for the gross profit are looking ok, while the EBIT is not accurately depicted. A linear model is obviously not sufficient to fit the data.\n",
    "\n",
    "Nevertheless, let's see what exact numbers are predicted for Q4 2018. When the earnings report is released, we will compare the numbers and then improve our methodology with a non-linear model."
   ]
  },
  {
   "cell_type": "code",
   "execution_count": 10,
   "metadata": {},
   "outputs": [
    {
     "data": {
      "text/plain": [
       "Pred_Revenue              6.667646e+07\n",
       "Pred_GrossProfit          4.573414e+07\n",
       "Pred_StaffExpenditures    3.126298e+07\n",
       "Pred_EBIT                 3.599998e+06\n",
       "Pred_NetProfit            2.555915e+06\n",
       "Revenue                            NaN\n",
       "GrossProfit                        NaN\n",
       "StaffExpenditures                  NaN\n",
       "EBIT                               NaN\n",
       "NetProfit                          NaN\n",
       "Name: (2018, Q4), dtype: float64"
      ]
     },
     "execution_count": 10,
     "metadata": {},
     "output_type": "execute_result"
    }
   ],
   "source": [
    "final_df.loc[(2018, \"Q4\")]"
   ]
  },
  {
   "cell_type": "markdown",
   "metadata": {},
   "source": [
    "## Tapping into the EBIT Multiple Valuation Method\n",
    "\n",
    "Using this prediction, we can attempt a cashflow-based valuation. Let's define some variables that we need later:"
   ]
  },
  {
   "cell_type": "code",
   "execution_count": 11,
   "metadata": {},
   "outputs": [],
   "source": [
    "SHARES_OUTSTANDING = 17_720_000"
   ]
  },
  {
   "cell_type": "markdown",
   "metadata": {},
   "source": [
    "Next we can take the predicted EBIT (or take the average of the last three years), and multiply it by 8 to get a rough estimate of the companies value. Divided by the shares outstanding, we should get a fair share price:"
   ]
  },
  {
   "cell_type": "code",
   "execution_count": 12,
   "metadata": {},
   "outputs": [
    {
     "data": {
      "text/plain": [
       "1.6252811022616118"
      ]
     },
     "execution_count": 12,
     "metadata": {},
     "output_type": "execute_result"
    }
   ],
   "source": [
    "final_df.loc[(2018, \"Q4\")].Pred_EBIT * 8 / SHARES_OUTSTANDING"
   ]
  },
  {
   "cell_type": "code",
   "execution_count": 13,
   "metadata": {},
   "outputs": [
    {
     "data": {
      "text/plain": [
       "1.8848758465011286"
      ]
     },
     "execution_count": 13,
     "metadata": {},
     "output_type": "execute_result"
    }
   ],
   "source": [
    "final_df[final_df.index.get_level_values(1) == 'Q4'].EBIT.mean() * 8 / SHARES_OUTSTANDING"
   ]
  },
  {
   "cell_type": "markdown",
   "metadata": {},
   "source": [
    "These values are at least in the ballpark of the current share price (~5 €). But, this is still a very crude simplification, and it ignores the assets of the company. Next up, we will refine the valuation using a techique similar to the one described in https://www.oldschoolvalue.com/blog/valuation-methods/ebit-multiple-valuation/. Stay tuned!"
   ]
  }
 ],
 "metadata": {
  "kernelspec": {
   "display_name": "iconomi-analysis-venv",
   "language": "python",
   "name": "iconomi-analysis-venv"
  },
  "language_info": {
   "codemirror_mode": {
    "name": "ipython",
    "version": 3
   },
   "file_extension": ".py",
   "mimetype": "text/x-python",
   "name": "python",
   "nbconvert_exporter": "python",
   "pygments_lexer": "ipython3",
   "version": "3.7.2"
  }
 },
 "nbformat": 4,
 "nbformat_minor": 2
}
